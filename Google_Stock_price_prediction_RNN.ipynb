{
  "nbformat": 4,
  "nbformat_minor": 0,
  "metadata": {
    "colab": {
      "provenance": [],
      "authorship_tag": "ABX9TyMZfAS/clxIacmB7bCsvNSv",
      "include_colab_link": true
    },
    "kernelspec": {
      "name": "python3",
      "display_name": "Python 3"
    },
    "language_info": {
      "name": "python"
    }
  },
  "cells": [
    {
      "cell_type": "markdown",
      "metadata": {
        "id": "view-in-github",
        "colab_type": "text"
      },
      "source": [
        "<a href=\"https://colab.research.google.com/github/Avnish3909/Google-Stock-price-prediction-RNN/blob/main/Google_Stock_price_prediction_RNN.ipynb\" target=\"_parent\"><img src=\"https://colab.research.google.com/assets/colab-badge.svg\" alt=\"Open In Colab\"/></a>"
      ]
    },
    {
      "cell_type": "code",
      "execution_count": 1,
      "metadata": {
        "id": "9HqzhY1K5E0B"
      },
      "outputs": [],
      "source": [
        "import numpy as np\n",
        "import matplotlib.pyplot as plt\n",
        "import pandas as pd\n",
        "from sklearn.preprocessing import MinMaxScaler"
      ]
    },
    {
      "cell_type": "code",
      "source": [
        "data = pd.read_csv('BTC-USD.csv', date_parser = True)\n",
        "data.tail()"
      ],
      "metadata": {
        "colab": {
          "base_uri": "https://localhost:8080/",
          "height": 206
        },
        "id": "8_sxSDYB6uLn",
        "outputId": "ba1b750f-38a9-4dad-f070-f7c5ff3932b8"
      },
      "execution_count": 2,
      "outputs": [
        {
          "output_type": "execute_result",
          "data": {
            "text/plain": [
              "            Date          Open          High           Low         Close  \\\n",
              "3363  2023-12-02  38689.277344  39678.937500  38652.593750  39476.332031   \n",
              "3364  2023-12-03  39472.207031  40135.605469  39298.164063  39978.390625   \n",
              "3365  2023-12-04  39978.628906  42371.750000  39978.628906  41980.097656   \n",
              "3366  2023-12-05  41986.265625  44408.664063  41421.148438  44080.648438   \n",
              "3367  2023-12-06  44080.023438  44256.875000  43478.082031  43986.390625   \n",
              "\n",
              "         Adj Close       Volume  \n",
              "3363  39476.332031  15534035612  \n",
              "3364  39978.390625  15769696322  \n",
              "3365  41980.097656  39856129827  \n",
              "3366  44080.648438  36312154535  \n",
              "3367  43986.390625  42075705344  "
            ],
            "text/html": [
              "\n",
              "  <div id=\"df-58d51a63-2ff9-40b8-9962-84eb4256d4dd\" class=\"colab-df-container\">\n",
              "    <div>\n",
              "<style scoped>\n",
              "    .dataframe tbody tr th:only-of-type {\n",
              "        vertical-align: middle;\n",
              "    }\n",
              "\n",
              "    .dataframe tbody tr th {\n",
              "        vertical-align: top;\n",
              "    }\n",
              "\n",
              "    .dataframe thead th {\n",
              "        text-align: right;\n",
              "    }\n",
              "</style>\n",
              "<table border=\"1\" class=\"dataframe\">\n",
              "  <thead>\n",
              "    <tr style=\"text-align: right;\">\n",
              "      <th></th>\n",
              "      <th>Date</th>\n",
              "      <th>Open</th>\n",
              "      <th>High</th>\n",
              "      <th>Low</th>\n",
              "      <th>Close</th>\n",
              "      <th>Adj Close</th>\n",
              "      <th>Volume</th>\n",
              "    </tr>\n",
              "  </thead>\n",
              "  <tbody>\n",
              "    <tr>\n",
              "      <th>3363</th>\n",
              "      <td>2023-12-02</td>\n",
              "      <td>38689.277344</td>\n",
              "      <td>39678.937500</td>\n",
              "      <td>38652.593750</td>\n",
              "      <td>39476.332031</td>\n",
              "      <td>39476.332031</td>\n",
              "      <td>15534035612</td>\n",
              "    </tr>\n",
              "    <tr>\n",
              "      <th>3364</th>\n",
              "      <td>2023-12-03</td>\n",
              "      <td>39472.207031</td>\n",
              "      <td>40135.605469</td>\n",
              "      <td>39298.164063</td>\n",
              "      <td>39978.390625</td>\n",
              "      <td>39978.390625</td>\n",
              "      <td>15769696322</td>\n",
              "    </tr>\n",
              "    <tr>\n",
              "      <th>3365</th>\n",
              "      <td>2023-12-04</td>\n",
              "      <td>39978.628906</td>\n",
              "      <td>42371.750000</td>\n",
              "      <td>39978.628906</td>\n",
              "      <td>41980.097656</td>\n",
              "      <td>41980.097656</td>\n",
              "      <td>39856129827</td>\n",
              "    </tr>\n",
              "    <tr>\n",
              "      <th>3366</th>\n",
              "      <td>2023-12-05</td>\n",
              "      <td>41986.265625</td>\n",
              "      <td>44408.664063</td>\n",
              "      <td>41421.148438</td>\n",
              "      <td>44080.648438</td>\n",
              "      <td>44080.648438</td>\n",
              "      <td>36312154535</td>\n",
              "    </tr>\n",
              "    <tr>\n",
              "      <th>3367</th>\n",
              "      <td>2023-12-06</td>\n",
              "      <td>44080.023438</td>\n",
              "      <td>44256.875000</td>\n",
              "      <td>43478.082031</td>\n",
              "      <td>43986.390625</td>\n",
              "      <td>43986.390625</td>\n",
              "      <td>42075705344</td>\n",
              "    </tr>\n",
              "  </tbody>\n",
              "</table>\n",
              "</div>\n",
              "    <div class=\"colab-df-buttons\">\n",
              "\n",
              "  <div class=\"colab-df-container\">\n",
              "    <button class=\"colab-df-convert\" onclick=\"convertToInteractive('df-58d51a63-2ff9-40b8-9962-84eb4256d4dd')\"\n",
              "            title=\"Convert this dataframe to an interactive table.\"\n",
              "            style=\"display:none;\">\n",
              "\n",
              "  <svg xmlns=\"http://www.w3.org/2000/svg\" height=\"24px\" viewBox=\"0 -960 960 960\">\n",
              "    <path d=\"M120-120v-720h720v720H120Zm60-500h600v-160H180v160Zm220 220h160v-160H400v160Zm0 220h160v-160H400v160ZM180-400h160v-160H180v160Zm440 0h160v-160H620v160ZM180-180h160v-160H180v160Zm440 0h160v-160H620v160Z\"/>\n",
              "  </svg>\n",
              "    </button>\n",
              "\n",
              "  <style>\n",
              "    .colab-df-container {\n",
              "      display:flex;\n",
              "      gap: 12px;\n",
              "    }\n",
              "\n",
              "    .colab-df-convert {\n",
              "      background-color: #E8F0FE;\n",
              "      border: none;\n",
              "      border-radius: 50%;\n",
              "      cursor: pointer;\n",
              "      display: none;\n",
              "      fill: #1967D2;\n",
              "      height: 32px;\n",
              "      padding: 0 0 0 0;\n",
              "      width: 32px;\n",
              "    }\n",
              "\n",
              "    .colab-df-convert:hover {\n",
              "      background-color: #E2EBFA;\n",
              "      box-shadow: 0px 1px 2px rgba(60, 64, 67, 0.3), 0px 1px 3px 1px rgba(60, 64, 67, 0.15);\n",
              "      fill: #174EA6;\n",
              "    }\n",
              "\n",
              "    .colab-df-buttons div {\n",
              "      margin-bottom: 4px;\n",
              "    }\n",
              "\n",
              "    [theme=dark] .colab-df-convert {\n",
              "      background-color: #3B4455;\n",
              "      fill: #D2E3FC;\n",
              "    }\n",
              "\n",
              "    [theme=dark] .colab-df-convert:hover {\n",
              "      background-color: #434B5C;\n",
              "      box-shadow: 0px 1px 3px 1px rgba(0, 0, 0, 0.15);\n",
              "      filter: drop-shadow(0px 1px 2px rgba(0, 0, 0, 0.3));\n",
              "      fill: #FFFFFF;\n",
              "    }\n",
              "  </style>\n",
              "\n",
              "    <script>\n",
              "      const buttonEl =\n",
              "        document.querySelector('#df-58d51a63-2ff9-40b8-9962-84eb4256d4dd button.colab-df-convert');\n",
              "      buttonEl.style.display =\n",
              "        google.colab.kernel.accessAllowed ? 'block' : 'none';\n",
              "\n",
              "      async function convertToInteractive(key) {\n",
              "        const element = document.querySelector('#df-58d51a63-2ff9-40b8-9962-84eb4256d4dd');\n",
              "        const dataTable =\n",
              "          await google.colab.kernel.invokeFunction('convertToInteractive',\n",
              "                                                    [key], {});\n",
              "        if (!dataTable) return;\n",
              "\n",
              "        const docLinkHtml = 'Like what you see? Visit the ' +\n",
              "          '<a target=\"_blank\" href=https://colab.research.google.com/notebooks/data_table.ipynb>data table notebook</a>'\n",
              "          + ' to learn more about interactive tables.';\n",
              "        element.innerHTML = '';\n",
              "        dataTable['output_type'] = 'display_data';\n",
              "        await google.colab.output.renderOutput(dataTable, element);\n",
              "        const docLink = document.createElement('div');\n",
              "        docLink.innerHTML = docLinkHtml;\n",
              "        element.appendChild(docLink);\n",
              "      }\n",
              "    </script>\n",
              "  </div>\n",
              "\n",
              "\n",
              "<div id=\"df-789c723a-ab48-442e-959a-4b29162cac3a\">\n",
              "  <button class=\"colab-df-quickchart\" onclick=\"quickchart('df-789c723a-ab48-442e-959a-4b29162cac3a')\"\n",
              "            title=\"Suggest charts\"\n",
              "            style=\"display:none;\">\n",
              "\n",
              "<svg xmlns=\"http://www.w3.org/2000/svg\" height=\"24px\"viewBox=\"0 0 24 24\"\n",
              "     width=\"24px\">\n",
              "    <g>\n",
              "        <path d=\"M19 3H5c-1.1 0-2 .9-2 2v14c0 1.1.9 2 2 2h14c1.1 0 2-.9 2-2V5c0-1.1-.9-2-2-2zM9 17H7v-7h2v7zm4 0h-2V7h2v10zm4 0h-2v-4h2v4z\"/>\n",
              "    </g>\n",
              "</svg>\n",
              "  </button>\n",
              "\n",
              "<style>\n",
              "  .colab-df-quickchart {\n",
              "      --bg-color: #E8F0FE;\n",
              "      --fill-color: #1967D2;\n",
              "      --hover-bg-color: #E2EBFA;\n",
              "      --hover-fill-color: #174EA6;\n",
              "      --disabled-fill-color: #AAA;\n",
              "      --disabled-bg-color: #DDD;\n",
              "  }\n",
              "\n",
              "  [theme=dark] .colab-df-quickchart {\n",
              "      --bg-color: #3B4455;\n",
              "      --fill-color: #D2E3FC;\n",
              "      --hover-bg-color: #434B5C;\n",
              "      --hover-fill-color: #FFFFFF;\n",
              "      --disabled-bg-color: #3B4455;\n",
              "      --disabled-fill-color: #666;\n",
              "  }\n",
              "\n",
              "  .colab-df-quickchart {\n",
              "    background-color: var(--bg-color);\n",
              "    border: none;\n",
              "    border-radius: 50%;\n",
              "    cursor: pointer;\n",
              "    display: none;\n",
              "    fill: var(--fill-color);\n",
              "    height: 32px;\n",
              "    padding: 0;\n",
              "    width: 32px;\n",
              "  }\n",
              "\n",
              "  .colab-df-quickchart:hover {\n",
              "    background-color: var(--hover-bg-color);\n",
              "    box-shadow: 0 1px 2px rgba(60, 64, 67, 0.3), 0 1px 3px 1px rgba(60, 64, 67, 0.15);\n",
              "    fill: var(--button-hover-fill-color);\n",
              "  }\n",
              "\n",
              "  .colab-df-quickchart-complete:disabled,\n",
              "  .colab-df-quickchart-complete:disabled:hover {\n",
              "    background-color: var(--disabled-bg-color);\n",
              "    fill: var(--disabled-fill-color);\n",
              "    box-shadow: none;\n",
              "  }\n",
              "\n",
              "  .colab-df-spinner {\n",
              "    border: 2px solid var(--fill-color);\n",
              "    border-color: transparent;\n",
              "    border-bottom-color: var(--fill-color);\n",
              "    animation:\n",
              "      spin 1s steps(1) infinite;\n",
              "  }\n",
              "\n",
              "  @keyframes spin {\n",
              "    0% {\n",
              "      border-color: transparent;\n",
              "      border-bottom-color: var(--fill-color);\n",
              "      border-left-color: var(--fill-color);\n",
              "    }\n",
              "    20% {\n",
              "      border-color: transparent;\n",
              "      border-left-color: var(--fill-color);\n",
              "      border-top-color: var(--fill-color);\n",
              "    }\n",
              "    30% {\n",
              "      border-color: transparent;\n",
              "      border-left-color: var(--fill-color);\n",
              "      border-top-color: var(--fill-color);\n",
              "      border-right-color: var(--fill-color);\n",
              "    }\n",
              "    40% {\n",
              "      border-color: transparent;\n",
              "      border-right-color: var(--fill-color);\n",
              "      border-top-color: var(--fill-color);\n",
              "    }\n",
              "    60% {\n",
              "      border-color: transparent;\n",
              "      border-right-color: var(--fill-color);\n",
              "    }\n",
              "    80% {\n",
              "      border-color: transparent;\n",
              "      border-right-color: var(--fill-color);\n",
              "      border-bottom-color: var(--fill-color);\n",
              "    }\n",
              "    90% {\n",
              "      border-color: transparent;\n",
              "      border-bottom-color: var(--fill-color);\n",
              "    }\n",
              "  }\n",
              "</style>\n",
              "\n",
              "  <script>\n",
              "    async function quickchart(key) {\n",
              "      const quickchartButtonEl =\n",
              "        document.querySelector('#' + key + ' button');\n",
              "      quickchartButtonEl.disabled = true;  // To prevent multiple clicks.\n",
              "      quickchartButtonEl.classList.add('colab-df-spinner');\n",
              "      try {\n",
              "        const charts = await google.colab.kernel.invokeFunction(\n",
              "            'suggestCharts', [key], {});\n",
              "      } catch (error) {\n",
              "        console.error('Error during call to suggestCharts:', error);\n",
              "      }\n",
              "      quickchartButtonEl.classList.remove('colab-df-spinner');\n",
              "      quickchartButtonEl.classList.add('colab-df-quickchart-complete');\n",
              "    }\n",
              "    (() => {\n",
              "      let quickchartButtonEl =\n",
              "        document.querySelector('#df-789c723a-ab48-442e-959a-4b29162cac3a button');\n",
              "      quickchartButtonEl.style.display =\n",
              "        google.colab.kernel.accessAllowed ? 'block' : 'none';\n",
              "    })();\n",
              "  </script>\n",
              "</div>\n",
              "    </div>\n",
              "  </div>\n"
            ]
          },
          "metadata": {},
          "execution_count": 2
        }
      ]
    },
    {
      "cell_type": "code",
      "source": [
        "data_training = data[data['Date']<'2021-01-01'].copy()\n",
        "data_test = data[data['Date']>='2021-01-01'].copy()"
      ],
      "metadata": {
        "id": "04NbHgcx7Dvn"
      },
      "execution_count": 3,
      "outputs": []
    },
    {
      "cell_type": "code",
      "source": [
        "data_training['Date'] = pd.to_datetime(data_training['Date'])\n",
        "\n",
        "plt.figure(figsize=(10, 6))\n",
        "plt.plot(data_training['Date'], data_training['Close'], label='Closing Price', color='blue')\n",
        "plt.xlabel('Date')\n",
        "plt.ylabel('Closing Price')\n",
        "plt.title('Stock Closing Prices Over Time')\n",
        "plt.legend()\n",
        "plt.show()"
      ],
      "metadata": {
        "colab": {
          "base_uri": "https://localhost:8080/",
          "height": 564
        },
        "id": "Z61fse3g7TmJ",
        "outputId": "ce059252-3e0c-4192-b3c1-41143d7b12e3"
      },
      "execution_count": 4,
      "outputs": [
        {
          "output_type": "display_data",
          "data": {
            "text/plain": [
              "<Figure size 1000x600 with 1 Axes>"
            ],
            "image/png": "[encoded data removed]"
          },
          "metadata": {}
        }
      ]
    },
    {
      "cell_type": "code",
      "source": [
        "data_training_1 = data_training.drop(['Adj Close'], axis = 1)"
      ],
      "metadata": {
        "id": "djSd15rR-NSD"
      },
      "execution_count": 5,
      "outputs": []
    },
    {
      "cell_type": "code",
      "source": [
        "scaler = MinMaxScaler()\n",
        "\n",
        "columns_to_scale = ['Open', 'High', 'Low', 'Close','Volume']\n",
        "data_training = data_training_1.copy()\n",
        "\n",
        "data_training[columns_to_scale] = scaler.fit_transform(data_training[columns_to_scale])\n"
      ],
      "metadata": {
        "id": "jAePuc8l-X70"
      },
      "execution_count": 6,
      "outputs": []
    },
    {
      "cell_type": "code",
      "source": [
        "sequence_length = 60\n",
        "\n",
        "X_train = []\n",
        "y_train = []\n",
        "\n",
        "for i in range(sequence_length, len(data_training)):\n",
        "    X_train.append(data_training[columns_to_scale].iloc[i - sequence_length:i])\n",
        "    y_train.append(data_training['Open'].iloc[i])\n",
        "\n",
        "X_train, y_train = np.array(X_train), np.array(y_train)\n"
      ],
      "metadata": {
        "id": "4u93S6ow-apk"
      },
      "execution_count": 7,
      "outputs": []
    },
    {
      "cell_type": "code",
      "source": [
        "X_train.shape"
      ],
      "metadata": {
        "colab": {
          "base_uri": "https://localhost:8080/"
        },
        "id": "bTjQ_DBC-jmN",
        "outputId": "5a09992b-0c88-4eb0-af4c-81943c40fd05"
      },
      "execution_count": 8,
      "outputs": [
        {
          "output_type": "execute_result",
          "data": {
            "text/plain": [
              "(2238, 60, 5)"
            ]
          },
          "metadata": {},
          "execution_count": 8
        }
      ]
    },
    {
      "cell_type": "code",
      "source": [
        "from tensorflow.keras import Sequential\n",
        "from tensorflow.keras.layers import Dense, LSTM, Dropout"
      ],
      "metadata": {
        "id": "nIii7FxK-pou"
      },
      "execution_count": 9,
      "outputs": []
    },
    {
      "cell_type": "code",
      "source": [
        "regressor = Sequential()\n",
        "\n",
        "regressor.add(LSTM(units = 60, activation = 'relu', return_sequences = True, input_shape = (X_train.shape[1], 5)))\n",
        "regressor.add(Dropout(0.2))\n",
        "\n",
        "regressor.add(LSTM(units = 60, activation = 'relu', return_sequences = True))\n",
        "regressor.add(Dropout(0.2))\n",
        "\n",
        "regressor.add(LSTM(units = 80, activation = 'relu', return_sequences = True))\n",
        "regressor.add(Dropout(0.2))\n",
        "\n",
        "regressor.add(LSTM(units = 120, activation = 'relu'))\n",
        "regressor.add(Dropout(0.2))\n",
        "\n",
        "regressor.add(Dense(units = 1))"
      ],
      "metadata": {
        "id": "6MsyxCbH-uRq"
      },
      "execution_count": 10,
      "outputs": []
    },
    {
      "cell_type": "code",
      "source": [
        "regressor.summary()"
      ],
      "metadata": {
        "colab": {
          "base_uri": "https://localhost:8080/"
        },
        "id": "4c1KfXcY_EkB",
        "outputId": "cccb1806-08c9-437b-f5a8-8d3b32653b40"
      },
      "execution_count": 11,
      "outputs": [
        {
          "output_type": "stream",
          "name": "stdout",
          "text": [
            "Model: \"sequential\"\n",
            "_________________________________________________________________\n",
            " Layer (type)                Output Shape              Param #   \n",
            "=================================================================\n",
            " lstm (LSTM)                 (None, 60, 60)            15840     \n",
            "                                                                 \n",
            " dropout (Dropout)           (None, 60, 60)            0         \n",
            "                                                                 \n",
            " lstm_1 (LSTM)               (None, 60, 60)            29040     \n",
            "                                                                 \n",
            " dropout_1 (Dropout)         (None, 60, 60)            0         \n",
            "                                                                 \n",
            " lstm_2 (LSTM)               (None, 60, 80)            45120     \n",
            "                                                                 \n",
            " dropout_2 (Dropout)         (None, 60, 80)            0         \n",
            "                                                                 \n",
            " lstm_3 (LSTM)               (None, 120)               96480     \n",
            "                                                                 \n",
            " dropout_3 (Dropout)         (None, 120)               0         \n",
            "                                                                 \n",
            " dense (Dense)               (None, 1)                 121       \n",
            "                                                                 \n",
            "=================================================================\n",
            "Total params: 186601 (728.91 KB)\n",
            "Trainable params: 186601 (728.91 KB)\n",
            "Non-trainable params: 0 (0.00 Byte)\n",
            "_________________________________________________________________\n"
          ]
        }
      ]
    },
    {
      "cell_type": "code",
      "source": [
        "regressor.compile(optimizer='adam', loss = 'mean_squared_error')\n",
        "regressor.fit(X_train, y_train, epochs=50, batch_size=32)"
      ],
      "metadata": {
        "colab": {
          "base_uri": "https://localhost:8080/"
        },
        "id": "mzW1kJXR_KHm",
        "outputId": "5ecf5fe8-a463-4064-a54f-adc4cb77677f"
      },
      "execution_count": 12,
      "outputs": [
        {
          "output_type": "stream",
          "name": "stdout",
          "text": [
            "Epoch 1/50\n",
            "70/70 [==============================] - 21s 201ms/step - loss: 0.0077\n",
            "Epoch 2/50\n",
            "70/70 [==============================] - 14s 200ms/step - loss: 0.0017\n",
            "Epoch 3/50\n",
            "70/70 [==============================] - 14s 199ms/step - loss: 0.0020\n",
            "Epoch 4/50\n",
            "70/70 [==============================] - 13s 191ms/step - loss: 0.0017\n",
            "Epoch 5/50\n",
            "70/70 [==============================] - 13s 188ms/step - loss: 0.0015\n",
            "Epoch 6/50\n",
            "70/70 [==============================] - 13s 188ms/step - loss: 0.0019\n",
            "Epoch 7/50\n",
            "70/70 [==============================] - 14s 196ms/step - loss: 0.0013\n",
            "Epoch 8/50\n",
            "70/70 [==============================] - 14s 201ms/step - loss: 0.0014\n",
            "Epoch 9/50\n",
            "70/70 [==============================] - 14s 201ms/step - loss: 0.0012\n",
            "Epoch 10/50\n",
            "70/70 [==============================] - 14s 201ms/step - loss: 0.0010\n",
            "Epoch 11/50\n",
            "70/70 [==============================] - 14s 200ms/step - loss: 9.8664e-04\n",
            "Epoch 12/50\n",
            "70/70 [==============================] - 14s 200ms/step - loss: 0.0010\n",
            "Epoch 13/50\n",
            "70/70 [==============================] - 14s 201ms/step - loss: 0.0011\n",
            "Epoch 14/50\n",
            "70/70 [==============================] - 14s 201ms/step - loss: 9.0853e-04\n",
            "Epoch 15/50\n",
            "70/70 [==============================] - 14s 202ms/step - loss: 9.5086e-04\n",
            "Epoch 16/50\n",
            "70/70 [==============================] - 14s 202ms/step - loss: 9.0427e-04\n",
            "Epoch 17/50\n",
            "70/70 [==============================] - 14s 203ms/step - loss: 7.8779e-04\n",
            "Epoch 18/50\n",
            "70/70 [==============================] - 14s 198ms/step - loss: 8.0064e-04\n",
            "Epoch 19/50\n",
            "70/70 [==============================] - 14s 197ms/step - loss: 8.9462e-04\n",
            "Epoch 20/50\n",
            "70/70 [==============================] - 14s 194ms/step - loss: 8.3978e-04\n",
            "Epoch 21/50\n",
            "70/70 [==============================] - 14s 195ms/step - loss: 7.4731e-04\n",
            "Epoch 22/50\n",
            "70/70 [==============================] - 14s 199ms/step - loss: 7.5851e-04\n",
            "Epoch 23/50\n",
            "70/70 [==============================] - 14s 207ms/step - loss: 7.4791e-04\n",
            "Epoch 24/50\n",
            "70/70 [==============================] - 14s 202ms/step - loss: 6.5057e-04\n",
            "Epoch 25/50\n",
            "70/70 [==============================] - 14s 203ms/step - loss: 6.7872e-04\n",
            "Epoch 26/50\n",
            "70/70 [==============================] - 14s 203ms/step - loss: 5.6485e-04\n",
            "Epoch 27/50\n",
            "70/70 [==============================] - 14s 203ms/step - loss: 6.7162e-04\n",
            "Epoch 28/50\n",
            "70/70 [==============================] - 14s 202ms/step - loss: 5.6374e-04\n",
            "Epoch 29/50\n",
            "70/70 [==============================] - 14s 201ms/step - loss: 6.8458e-04\n",
            "Epoch 30/50\n",
            "70/70 [==============================] - 14s 200ms/step - loss: 6.0491e-04\n",
            "Epoch 31/50\n",
            "70/70 [==============================] - 14s 201ms/step - loss: 6.1341e-04\n",
            "Epoch 32/50\n",
            "70/70 [==============================] - 14s 204ms/step - loss: 5.1738e-04\n",
            "Epoch 33/50\n",
            "70/70 [==============================] - 14s 203ms/step - loss: 6.0941e-04\n",
            "Epoch 34/50\n",
            "70/70 [==============================] - 14s 202ms/step - loss: 6.3469e-04\n",
            "Epoch 35/50\n",
            "70/70 [==============================] - 14s 198ms/step - loss: 6.8529e-04\n",
            "Epoch 36/50\n",
            "70/70 [==============================] - 13s 188ms/step - loss: 6.3046e-04\n",
            "Epoch 37/50\n",
            "70/70 [==============================] - 13s 190ms/step - loss: 5.5127e-04\n",
            "Epoch 38/50\n",
            "70/70 [==============================] - 13s 190ms/step - loss: 5.2475e-04\n",
            "Epoch 39/50\n",
            "70/70 [==============================] - 14s 200ms/step - loss: 4.5895e-04\n",
            "Epoch 40/50\n",
            "70/70 [==============================] - 14s 200ms/step - loss: 5.0145e-04\n",
            "Epoch 41/50\n",
            "70/70 [==============================] - 14s 201ms/step - loss: 4.9656e-04\n",
            "Epoch 42/50\n",
            "70/70 [==============================] - 14s 200ms/step - loss: 4.5859e-04\n",
            "Epoch 43/50\n",
            "70/70 [==============================] - 14s 204ms/step - loss: 5.6700e-04\n",
            "Epoch 44/50\n",
            "70/70 [==============================] - 14s 204ms/step - loss: 4.7678e-04\n",
            "Epoch 45/50\n",
            "70/70 [==============================] - 14s 204ms/step - loss: 4.8313e-04\n",
            "Epoch 46/50\n",
            "70/70 [==============================] - 14s 202ms/step - loss: 4.6775e-04\n",
            "Epoch 47/50\n",
            "70/70 [==============================] - 14s 204ms/step - loss: 5.2453e-04\n",
            "Epoch 48/50\n",
            "70/70 [==============================] - 14s 203ms/step - loss: 4.8536e-04\n",
            "Epoch 49/50\n",
            "70/70 [==============================] - 14s 200ms/step - loss: 4.3834e-04\n",
            "Epoch 50/50\n",
            "70/70 [==============================] - 14s 201ms/step - loss: 4.0729e-04\n"
          ]
        },
        {
          "output_type": "execute_result",
          "data": {
            "text/plain": [
              "<keras.src.callbacks.History at 0x793a505d41c0>"
            ]
          },
          "metadata": {},
          "execution_count": 12
        }
      ]
    },
    {
      "cell_type": "code",
      "source": [
        "data_test.head()"
      ],
      "metadata": {
        "colab": {
          "base_uri": "https://localhost:8080/",
          "height": 206
        },
        "id": "GKEdNSM7AK0a",
        "outputId": "1f6eb845-0750-43c4-8b8a-fb54cf9123c7"
      },
      "execution_count": 13,
      "outputs": [
        {
          "output_type": "execute_result",
          "data": {
            "text/plain": [
              "            Date          Open          High           Low         Close  \\\n",
              "2298  2021-01-01  28994.009766  29600.626953  28803.585938  29374.152344   \n",
              "2299  2021-01-02  29376.455078  33155.117188  29091.181641  32127.267578   \n",
              "2300  2021-01-03  32129.408203  34608.558594  32052.316406  32782.023438   \n",
              "2301  2021-01-04  32810.949219  33440.218750  28722.755859  31971.914063   \n",
              "2302  2021-01-05  31977.041016  34437.589844  30221.187500  33992.429688   \n",
              "\n",
              "         Adj Close       Volume  \n",
              "2298  29374.152344  40730301359  \n",
              "2299  32127.267578  67865420765  \n",
              "2300  32782.023438  78665235202  \n",
              "2301  31971.914063  81163475344  \n",
              "2302  33992.429688  67547324782  "
            ],
            "text/html": [
              "\n",
              "  <div id=\"df-46f3533c-d669-4f46-98eb-8d2d3ea98dc8\" class=\"colab-df-container\">\n",
              "    <div>\n",
              "<style scoped>\n",
              "    .dataframe tbody tr th:only-of-type {\n",
              "        vertical-align: middle;\n",
              "    }\n",
              "\n",
              "    .dataframe tbody tr th {\n",
              "        vertical-align: top;\n",
              "    }\n",
              "\n",
              "    .dataframe thead th {\n",
              "        text-align: right;\n",
              "    }\n",
              "</style>\n",
              "<table border=\"1\" class=\"dataframe\">\n",
              "  <thead>\n",
              "    <tr style=\"text-align: right;\">\n",
              "      <th></th>\n",
              "      <th>Date</th>\n",
              "      <th>Open</th>\n",
              "      <th>High</th>\n",
              "      <th>Low</th>\n",
              "      <th>Close</th>\n",
              "      <th>Adj Close</th>\n",
              "      <th>Volume</th>\n",
              "    </tr>\n",
              "  </thead>\n",
              "  <tbody>\n",
              "    <tr>\n",
              "      <th>2298</th>\n",
              "      <td>2021-01-01</td>\n",
              "      <td>28994.009766</td>\n",
              "      <td>29600.626953</td>\n",
              "      <td>28803.585938</td>\n",
              "      <td>29374.152344</td>\n",
              "      <td>29374.152344</td>\n",
              "      <td>40730301359</td>\n",
              "    </tr>\n",
              "    <tr>\n",
              "      <th>2299</th>\n",
              "      <td>2021-01-02</td>\n",
              "      <td>29376.455078</td>\n",
              "      <td>33155.117188</td>\n",
              "      <td>29091.181641</td>\n",
              "      <td>32127.267578</td>\n",
              "      <td>32127.267578</td>\n",
              "      <td>67865420765</td>\n",
              "    </tr>\n",
              "    <tr>\n",
              "      <th>2300</th>\n",
              "      <td>2021-01-03</td>\n",
              "      <td>32129.408203</td>\n",
              "      <td>34608.558594</td>\n",
              "      <td>32052.316406</td>\n",
              "      <td>32782.023438</td>\n",
              "      <td>32782.023438</td>\n",
              "      <td>78665235202</td>\n",
              "    </tr>\n",
              "    <tr>\n",
              "      <th>2301</th>\n",
              "      <td>2021-01-04</td>\n",
              "      <td>32810.949219</td>\n",
              "      <td>33440.218750</td>\n",
              "      <td>28722.755859</td>\n",
              "      <td>31971.914063</td>\n",
              "      <td>31971.914063</td>\n",
              "      <td>81163475344</td>\n",
              "    </tr>\n",
              "    <tr>\n",
              "      <th>2302</th>\n",
              "      <td>2021-01-05</td>\n",
              "      <td>31977.041016</td>\n",
              "      <td>34437.589844</td>\n",
              "      <td>30221.187500</td>\n",
              "      <td>33992.429688</td>\n",
              "      <td>33992.429688</td>\n",
              "      <td>67547324782</td>\n",
              "    </tr>\n",
              "  </tbody>\n",
              "</table>\n",
              "</div>\n",
              "    <div class=\"colab-df-buttons\">\n",
              "\n",
              "  <div class=\"colab-df-container\">\n",
              "    <button class=\"colab-df-convert\" onclick=\"convertToInteractive('df-46f3533c-d669-4f46-98eb-8d2d3ea98dc8')\"\n",
              "            title=\"Convert this dataframe to an interactive table.\"\n",
              "            style=\"display:none;\">\n",
              "\n",
              "  <svg xmlns=\"http://www.w3.org/2000/svg\" height=\"24px\" viewBox=\"0 -960 960 960\">\n",
              "    <path d=\"M120-120v-720h720v720H120Zm60-500h600v-160H180v160Zm220 220h160v-160H400v160Zm0 220h160v-160H400v160ZM180-400h160v-160H180v160Zm440 0h160v-160H620v160ZM180-180h160v-160H180v160Zm440 0h160v-160H620v160Z\"/>\n",
              "  </svg>\n",
              "    </button>\n",
              "\n",
              "  <style>\n",
              "    .colab-df-container {\n",
              "      display:flex;\n",
              "      gap: 12px;\n",
              "    }\n",
              "\n",
              "    .colab-df-convert {\n",
              "      background-color: #E8F0FE;\n",
              "      border: none;\n",
              "      border-radius: 50%;\n",
              "      cursor: pointer;\n",
              "      display: none;\n",
              "      fill: #1967D2;\n",
              "      height: 32px;\n",
              "      padding: 0 0 0 0;\n",
              "      width: 32px;\n",
              "    }\n",
              "\n",
              "    .colab-df-convert:hover {\n",
              "      background-color: #E2EBFA;\n",
              "      box-shadow: 0px 1px 2px rgba(60, 64, 67, 0.3), 0px 1px 3px 1px rgba(60, 64, 67, 0.15);\n",
              "      fill: #174EA6;\n",
              "    }\n",
              "\n",
              "    .colab-df-buttons div {\n",
              "      margin-bottom: 4px;\n",
              "    }\n",
              "\n",
              "    [theme=dark] .colab-df-convert {\n",
              "      background-color: #3B4455;\n",
              "      fill: #D2E3FC;\n",
              "    }\n",
              "\n",
              "    [theme=dark] .colab-df-convert:hover {\n",
              "      background-color: #434B5C;\n",
              "      box-shadow: 0px 1px 3px 1px rgba(0, 0, 0, 0.15);\n",
              "      filter: drop-shadow(0px 1px 2px rgba(0, 0, 0, 0.3));\n",
              "      fill: #FFFFFF;\n",
              "    }\n",
              "  </style>\n",
              "\n",
              "    <script>\n",
              "      const buttonEl =\n",
              "        document.querySelector('#df-46f3533c-d669-4f46-98eb-8d2d3ea98dc8 button.colab-df-convert');\n",
              "      buttonEl.style.display =\n",
              "        google.colab.kernel.accessAllowed ? 'block' : 'none';\n",
              "\n",
              "      async function convertToInteractive(key) {\n",
              "        const element = document.querySelector('#df-46f3533c-d669-4f46-98eb-8d2d3ea98dc8');\n",
              "        const dataTable =\n",
              "          await google.colab.kernel.invokeFunction('convertToInteractive',\n",
              "                                                    [key], {});\n",
              "        if (!dataTable) return;\n",
              "\n",
              "        const docLinkHtml = 'Like what you see? Visit the ' +\n",
              "          '<a target=\"_blank\" href=https://colab.research.google.com/notebooks/data_table.ipynb>data table notebook</a>'\n",
              "          + ' to learn more about interactive tables.';\n",
              "        element.innerHTML = '';\n",
              "        dataTable['output_type'] = 'display_data';\n",
              "        await google.colab.output.renderOutput(dataTable, element);\n",
              "        const docLink = document.createElement('div');\n",
              "        docLink.innerHTML = docLinkHtml;\n",
              "        element.appendChild(docLink);\n",
              "      }\n",
              "    </script>\n",
              "  </div>\n",
              "\n",
              "\n",
              "<div id=\"df-025509dd-1485-4d6c-ac7f-71c13937c3a1\">\n",
              "  <button class=\"colab-df-quickchart\" onclick=\"quickchart('df-025509dd-1485-4d6c-ac7f-71c13937c3a1')\"\n",
              "            title=\"Suggest charts\"\n",
              "            style=\"display:none;\">\n",
              "\n",
              "<svg xmlns=\"http://www.w3.org/2000/svg\" height=\"24px\"viewBox=\"0 0 24 24\"\n",
              "     width=\"24px\">\n",
              "    <g>\n",
              "        <path d=\"M19 3H5c-1.1 0-2 .9-2 2v14c0 1.1.9 2 2 2h14c1.1 0 2-.9 2-2V5c0-1.1-.9-2-2-2zM9 17H7v-7h2v7zm4 0h-2V7h2v10zm4 0h-2v-4h2v4z\"/>\n",
              "    </g>\n",
              "</svg>\n",
              "  </button>\n",
              "\n",
              "<style>\n",
              "  .colab-df-quickchart {\n",
              "      --bg-color: #E8F0FE;\n",
              "      --fill-color: #1967D2;\n",
              "      --hover-bg-color: #E2EBFA;\n",
              "      --hover-fill-color: #174EA6;\n",
              "      --disabled-fill-color: #AAA;\n",
              "      --disabled-bg-color: #DDD;\n",
              "  }\n",
              "\n",
              "  [theme=dark] .colab-df-quickchart {\n",
              "      --bg-color: #3B4455;\n",
              "      --fill-color: #D2E3FC;\n",
              "      --hover-bg-color: #434B5C;\n",
              "      --hover-fill-color: #FFFFFF;\n",
              "      --disabled-bg-color: #3B4455;\n",
              "      --disabled-fill-color: #666;\n",
              "  }\n",
              "\n",
              "  .colab-df-quickchart {\n",
              "    background-color: var(--bg-color);\n",
              "    border: none;\n",
              "    border-radius: 50%;\n",
              "    cursor: pointer;\n",
              "    display: none;\n",
              "    fill: var(--fill-color);\n",
              "    height: 32px;\n",
              "    padding: 0;\n",
              "    width: 32px;\n",
              "  }\n",
              "\n",
              "  .colab-df-quickchart:hover {\n",
              "    background-color: var(--hover-bg-color);\n",
              "    box-shadow: 0 1px 2px rgba(60, 64, 67, 0.3), 0 1px 3px 1px rgba(60, 64, 67, 0.15);\n",
              "    fill: var(--button-hover-fill-color);\n",
              "  }\n",
              "\n",
              "  .colab-df-quickchart-complete:disabled,\n",
              "  .colab-df-quickchart-complete:disabled:hover {\n",
              "    background-color: var(--disabled-bg-color);\n",
              "    fill: var(--disabled-fill-color);\n",
              "    box-shadow: none;\n",
              "  }\n",
              "\n",
              "  .colab-df-spinner {\n",
              "    border: 2px solid var(--fill-color);\n",
              "    border-color: transparent;\n",
              "    border-bottom-color: var(--fill-color);\n",
              "    animation:\n",
              "      spin 1s steps(1) infinite;\n",
              "  }\n",
              "\n",
              "  @keyframes spin {\n",
              "    0% {\n",
              "      border-color: transparent;\n",
              "      border-bottom-color: var(--fill-color);\n",
              "      border-left-color: var(--fill-color);\n",
              "    }\n",
              "    20% {\n",
              "      border-color: transparent;\n",
              "      border-left-color: var(--fill-color);\n",
              "      border-top-color: var(--fill-color);\n",
              "    }\n",
              "    30% {\n",
              "      border-color: transparent;\n",
              "      border-left-color: var(--fill-color);\n",
              "      border-top-color: var(--fill-color);\n",
              "      border-right-color: var(--fill-color);\n",
              "    }\n",
              "    40% {\n",
              "      border-color: transparent;\n",
              "      border-right-color: var(--fill-color);\n",
              "      border-top-color: var(--fill-color);\n",
              "    }\n",
              "    60% {\n",
              "      border-color: transparent;\n",
              "      border-right-color: var(--fill-color);\n",
              "    }\n",
              "    80% {\n",
              "      border-color: transparent;\n",
              "      border-right-color: var(--fill-color);\n",
              "      border-bottom-color: var(--fill-color);\n",
              "    }\n",
              "    90% {\n",
              "      border-color: transparent;\n",
              "      border-bottom-color: var(--fill-color);\n",
              "    }\n",
              "  }\n",
              "</style>\n",
              "\n",
              "  <script>\n",
              "    async function quickchart(key) {\n",
              "      const quickchartButtonEl =\n",
              "        document.querySelector('#' + key + ' button');\n",
              "      quickchartButtonEl.disabled = true;  // To prevent multiple clicks.\n",
              "      quickchartButtonEl.classList.add('colab-df-spinner');\n",
              "      try {\n",
              "        const charts = await google.colab.kernel.invokeFunction(\n",
              "            'suggestCharts', [key], {});\n",
              "      } catch (error) {\n",
              "        console.error('Error during call to suggestCharts:', error);\n",
              "      }\n",
              "      quickchartButtonEl.classList.remove('colab-df-spinner');\n",
              "      quickchartButtonEl.classList.add('colab-df-quickchart-complete');\n",
              "    }\n",
              "    (() => {\n",
              "      let quickchartButtonEl =\n",
              "        document.querySelector('#df-025509dd-1485-4d6c-ac7f-71c13937c3a1 button');\n",
              "      quickchartButtonEl.style.display =\n",
              "        google.colab.kernel.accessAllowed ? 'block' : 'none';\n",
              "    })();\n",
              "  </script>\n",
              "</div>\n",
              "    </div>\n",
              "  </div>\n"
            ]
          },
          "metadata": {},
          "execution_count": 13
        }
      ]
    },
    {
      "cell_type": "code",
      "source": [
        "past_60_days = data_test.tail(60)"
      ],
      "metadata": {
        "id": "Rwum9ivqGl_0"
      },
      "execution_count": 14,
      "outputs": []
    },
    {
      "cell_type": "code",
      "source": [
        "df = past_60_days.append(data_test, ignore_index = True)\n",
        "df = df.drop(['Adj Close'], axis = 1)\n",
        "df.head()"
      ],
      "metadata": {
        "colab": {
          "base_uri": "https://localhost:8080/",
          "height": 261
        },
        "id": "FpbdHS7dGpa9",
        "outputId": "c6520eb8-c984-40f3-f637-72c2e8fd8970"
      },
      "execution_count": 15,
      "outputs": [
        {
          "output_type": "stream",
          "name": "stderr",
          "text": [
            "<ipython-input-15-8e7daeee352d>:1: FutureWarning: The frame.append method is deprecated and will be removed from pandas in a future version. Use pandas.concat instead.\n",
            "  df = past_60_days.append(data_test, ignore_index = True)\n"
          ]
        },
        {
          "output_type": "execute_result",
          "data": {
            "text/plain": [
              "         Date          Open          High           Low         Close  \\\n",
              "0  2023-10-08  27971.677734  28102.169922  27740.662109  27935.089844   \n",
              "1  2023-10-09  27934.472656  27989.470703  27302.562500  27583.677734   \n",
              "2  2023-10-10  27589.201172  27715.847656  27301.654297  27391.019531   \n",
              "3  2023-10-11  27392.076172  27474.115234  26561.099609  26873.320313   \n",
              "4  2023-10-12  26873.292969  26921.439453  26558.320313  26756.798828   \n",
              "\n",
              "        Volume  \n",
              "0   7916875290  \n",
              "1  12007668568  \n",
              "2   9973350678  \n",
              "3  13648094333  \n",
              "4   9392909295  "
            ],
            "text/html": [
              "\n",
              "  <div id=\"df-25402819-34cf-4713-a798-142d6b375978\" class=\"colab-df-container\">\n",
              "    <div>\n",
              "<style scoped>\n",
              "    .dataframe tbody tr th:only-of-type {\n",
              "        vertical-align: middle;\n",
              "    }\n",
              "\n",
              "    .dataframe tbody tr th {\n",
              "        vertical-align: top;\n",
              "    }\n",
              "\n",
              "    .dataframe thead th {\n",
              "        text-align: right;\n",
              "    }\n",
              "</style>\n",
              "<table border=\"1\" class=\"dataframe\">\n",
              "  <thead>\n",
              "    <tr style=\"text-align: right;\">\n",
              "      <th></th>\n",
              "      <th>Date</th>\n",
              "      <th>Open</th>\n",
              "      <th>High</th>\n",
              "      <th>Low</th>\n",
              "      <th>Close</th>\n",
              "      <th>Volume</th>\n",
              "    </tr>\n",
              "  </thead>\n",
              "  <tbody>\n",
              "    <tr>\n",
              "      <th>0</th>\n",
              "      <td>2023-10-08</td>\n",
              "      <td>27971.677734</td>\n",
              "      <td>28102.169922</td>\n",
              "      <td>27740.662109</td>\n",
              "      <td>27935.089844</td>\n",
              "      <td>7916875290</td>\n",
              "    </tr>\n",
              "    <tr>\n",
              "      <th>1</th>\n",
              "      <td>2023-10-09</td>\n",
              "      <td>27934.472656</td>\n",
              "      <td>27989.470703</td>\n",
              "      <td>27302.562500</td>\n",
              "      <td>27583.677734</td>\n",
              "      <td>12007668568</td>\n",
              "    </tr>\n",
              "    <tr>\n",
              "      <th>2</th>\n",
              "      <td>2023-10-10</td>\n",
              "      <td>27589.201172</td>\n",
              "      <td>27715.847656</td>\n",
              "      <td>27301.654297</td>\n",
              "      <td>27391.019531</td>\n",
              "      <td>9973350678</td>\n",
              "    </tr>\n",
              "    <tr>\n",
              "      <th>3</th>\n",
              "      <td>2023-10-11</td>\n",
              "      <td>27392.076172</td>\n",
              "      <td>27474.115234</td>\n",
              "      <td>26561.099609</td>\n",
              "      <td>26873.320313</td>\n",
              "      <td>13648094333</td>\n",
              "    </tr>\n",
              "    <tr>\n",
              "      <th>4</th>\n",
              "      <td>2023-10-12</td>\n",
              "      <td>26873.292969</td>\n",
              "      <td>26921.439453</td>\n",
              "      <td>26558.320313</td>\n",
              "      <td>26756.798828</td>\n",
              "      <td>9392909295</td>\n",
              "    </tr>\n",
              "  </tbody>\n",
              "</table>\n",
              "</div>\n",
              "    <div class=\"colab-df-buttons\">\n",
              "\n",
              "  <div class=\"colab-df-container\">\n",
              "    <button class=\"colab-df-convert\" onclick=\"convertToInteractive('df-25402819-34cf-4713-a798-142d6b375978')\"\n",
              "            title=\"Convert this dataframe to an interactive table.\"\n",
              "            style=\"display:none;\">\n",
              "\n",
              "  <svg xmlns=\"http://www.w3.org/2000/svg\" height=\"24px\" viewBox=\"0 -960 960 960\">\n",
              "    <path d=\"M120-120v-720h720v720H120Zm60-500h600v-160H180v160Zm220 220h160v-160H400v160Zm0 220h160v-160H400v160ZM180-400h160v-160H180v160Zm440 0h160v-160H620v160ZM180-180h160v-160H180v160Zm440 0h160v-160H620v160Z\"/>\n",
              "  </svg>\n",
              "    </button>\n",
              "\n",
              "  <style>\n",
              "    .colab-df-container {\n",
              "      display:flex;\n",
              "      gap: 12px;\n",
              "    }\n",
              "\n",
              "    .colab-df-convert {\n",
              "      background-color: #E8F0FE;\n",
              "      border: none;\n",
              "      border-radius: 50%;\n",
              "      cursor: pointer;\n",
              "      display: none;\n",
              "      fill: #1967D2;\n",
              "      height: 32px;\n",
              "      padding: 0 0 0 0;\n",
              "      width: 32px;\n",
              "    }\n",
              "\n",
              "    .colab-df-convert:hover {\n",
              "      background-color: #E2EBFA;\n",
              "      box-shadow: 0px 1px 2px rgba(60, 64, 67, 0.3), 0px 1px 3px 1px rgba(60, 64, 67, 0.15);\n",
              "      fill: #174EA6;\n",
              "    }\n",
              "\n",
              "    .colab-df-buttons div {\n",
              "      margin-bottom: 4px;\n",
              "    }\n",
              "\n",
              "    [theme=dark] .colab-df-convert {\n",
              "      background-color: #3B4455;\n",
              "      fill: #D2E3FC;\n",
              "    }\n",
              "\n",
              "    [theme=dark] .colab-df-convert:hover {\n",
              "      background-color: #434B5C;\n",
              "      box-shadow: 0px 1px 3px 1px rgba(0, 0, 0, 0.15);\n",
              "      filter: drop-shadow(0px 1px 2px rgba(0, 0, 0, 0.3));\n",
              "      fill: #FFFFFF;\n",
              "    }\n",
              "  </style>\n",
              "\n",
              "    <script>\n",
              "      const buttonEl =\n",
              "        document.querySelector('#df-25402819-34cf-4713-a798-142d6b375978 button.colab-df-convert');\n",
              "      buttonEl.style.display =\n",
              "        google.colab.kernel.accessAllowed ? 'block' : 'none';\n",
              "\n",
              "      async function convertToInteractive(key) {\n",
              "        const element = document.querySelector('#df-25402819-34cf-4713-a798-142d6b375978');\n",
              "        const dataTable =\n",
              "          await google.colab.kernel.invokeFunction('convertToInteractive',\n",
              "                                                    [key], {});\n",
              "        if (!dataTable) return;\n",
              "\n",
              "        const docLinkHtml = 'Like what you see? Visit the ' +\n",
              "          '<a target=\"_blank\" href=https://colab.research.google.com/notebooks/data_table.ipynb>data table notebook</a>'\n",
              "          + ' to learn more about interactive tables.';\n",
              "        element.innerHTML = '';\n",
              "        dataTable['output_type'] = 'display_data';\n",
              "        await google.colab.output.renderOutput(dataTable, element);\n",
              "        const docLink = document.createElement('div');\n",
              "        docLink.innerHTML = docLinkHtml;\n",
              "        element.appendChild(docLink);\n",
              "      }\n",
              "    </script>\n",
              "  </div>\n",
              "\n",
              "\n",
              "<div id=\"df-7be9d3c7-e775-4a4c-847f-32693c1c714e\">\n",
              "  <button class=\"colab-df-quickchart\" onclick=\"quickchart('df-7be9d3c7-e775-4a4c-847f-32693c1c714e')\"\n",
              "            title=\"Suggest charts\"\n",
              "            style=\"display:none;\">\n",
              "\n",
              "<svg xmlns=\"http://www.w3.org/2000/svg\" height=\"24px\"viewBox=\"0 0 24 24\"\n",
              "     width=\"24px\">\n",
              "    <g>\n",
              "        <path d=\"M19 3H5c-1.1 0-2 .9-2 2v14c0 1.1.9 2 2 2h14c1.1 0 2-.9 2-2V5c0-1.1-.9-2-2-2zM9 17H7v-7h2v7zm4 0h-2V7h2v10zm4 0h-2v-4h2v4z\"/>\n",
              "    </g>\n",
              "</svg>\n",
              "  </button>\n",
              "\n",
              "<style>\n",
              "  .colab-df-quickchart {\n",
              "      --bg-color: #E8F0FE;\n",
              "      --fill-color: #1967D2;\n",
              "      --hover-bg-color: #E2EBFA;\n",
              "      --hover-fill-color: #174EA6;\n",
              "      --disabled-fill-color: #AAA;\n",
              "      --disabled-bg-color: #DDD;\n",
              "  }\n",
              "\n",
              "  [theme=dark] .colab-df-quickchart {\n",
              "      --bg-color: #3B4455;\n",
              "      --fill-color: #D2E3FC;\n",
              "      --hover-bg-color: #434B5C;\n",
              "      --hover-fill-color: #FFFFFF;\n",
              "      --disabled-bg-color: #3B4455;\n",
              "      --disabled-fill-color: #666;\n",
              "  }\n",
              "\n",
              "  .colab-df-quickchart {\n",
              "    background-color: var(--bg-color);\n",
              "    border: none;\n",
              "    border-radius: 50%;\n",
              "    cursor: pointer;\n",
              "    display: none;\n",
              "    fill: var(--fill-color);\n",
              "    height: 32px;\n",
              "    padding: 0;\n",
              "    width: 32px;\n",
              "  }\n",
              "\n",
              "  .colab-df-quickchart:hover {\n",
              "    background-color: var(--hover-bg-color);\n",
              "    box-shadow: 0 1px 2px rgba(60, 64, 67, 0.3), 0 1px 3px 1px rgba(60, 64, 67, 0.15);\n",
              "    fill: var(--button-hover-fill-color);\n",
              "  }\n",
              "\n",
              "  .colab-df-quickchart-complete:disabled,\n",
              "  .colab-df-quickchart-complete:disabled:hover {\n",
              "    background-color: var(--disabled-bg-color);\n",
              "    fill: var(--disabled-fill-color);\n",
              "    box-shadow: none;\n",
              "  }\n",
              "\n",
              "  .colab-df-spinner {\n",
              "    border: 2px solid var(--fill-color);\n",
              "    border-color: transparent;\n",
              "    border-bottom-color: var(--fill-color);\n",
              "    animation:\n",
              "      spin 1s steps(1) infinite;\n",
              "  }\n",
              "\n",
              "  @keyframes spin {\n",
              "    0% {\n",
              "      border-color: transparent;\n",
              "      border-bottom-color: var(--fill-color);\n",
              "      border-left-color: var(--fill-color);\n",
              "    }\n",
              "    20% {\n",
              "      border-color: transparent;\n",
              "      border-left-color: var(--fill-color);\n",
              "      border-top-color: var(--fill-color);\n",
              "    }\n",
              "    30% {\n",
              "      border-color: transparent;\n",
              "      border-left-color: var(--fill-color);\n",
              "      border-top-color: var(--fill-color);\n",
              "      border-right-color: var(--fill-color);\n",
              "    }\n",
              "    40% {\n",
              "      border-color: transparent;\n",
              "      border-right-color: var(--fill-color);\n",
              "      border-top-color: var(--fill-color);\n",
              "    }\n",
              "    60% {\n",
              "      border-color: transparent;\n",
              "      border-right-color: var(--fill-color);\n",
              "    }\n",
              "    80% {\n",
              "      border-color: transparent;\n",
              "      border-right-color: var(--fill-color);\n",
              "      border-bottom-color: var(--fill-color);\n",
              "    }\n",
              "    90% {\n",
              "      border-color: transparent;\n",
              "      border-bottom-color: var(--fill-color);\n",
              "    }\n",
              "  }\n",
              "</style>\n",
              "\n",
              "  <script>\n",
              "    async function quickchart(key) {\n",
              "      const quickchartButtonEl =\n",
              "        document.querySelector('#' + key + ' button');\n",
              "      quickchartButtonEl.disabled = true;  // To prevent multiple clicks.\n",
              "      quickchartButtonEl.classList.add('colab-df-spinner');\n",
              "      try {\n",
              "        const charts = await google.colab.kernel.invokeFunction(\n",
              "            'suggestCharts', [key], {});\n",
              "      } catch (error) {\n",
              "        console.error('Error during call to suggestCharts:', error);\n",
              "      }\n",
              "      quickchartButtonEl.classList.remove('colab-df-spinner');\n",
              "      quickchartButtonEl.classList.add('colab-df-quickchart-complete');\n",
              "    }\n",
              "    (() => {\n",
              "      let quickchartButtonEl =\n",
              "        document.querySelector('#df-7be9d3c7-e775-4a4c-847f-32693c1c714e button');\n",
              "      quickchartButtonEl.style.display =\n",
              "        google.colab.kernel.accessAllowed ? 'block' : 'none';\n",
              "    })();\n",
              "  </script>\n",
              "</div>\n",
              "    </div>\n",
              "  </div>\n"
            ]
          },
          "metadata": {},
          "execution_count": 15
        }
      ]
    },
    {
      "cell_type": "code",
      "source": [
        "scaler = MinMaxScaler()\n",
        "columns_to_scale = ['Open', 'High', 'Low', 'Close','Volume']\n",
        "df[columns_to_scale] = scaler.fit_transform(df[columns_to_scale])"
      ],
      "metadata": {
        "id": "NTTJIUe6HhdK"
      },
      "execution_count": 16,
      "outputs": []
    },
    {
      "cell_type": "code",
      "source": [
        "X_test = []\n",
        "y_test = []\n",
        "\n",
        "for i in range(60, df.shape[0]):\n",
        "    X_test.append(df.iloc[i-60:i, 1:])\n",
        "    y_test.append(df.iloc[i, 1])\n",
        "\n",
        "X_test, y_test = np.array(X_test), np.array(y_test)\n",
        "X_test.shape, y_test.shape"
      ],
      "metadata": {
        "colab": {
          "base_uri": "https://localhost:8080/"
        },
        "id": "MHozn0niHkiX",
        "outputId": "cc859985-827f-4635-ffa3-82ce5c48b20e"
      },
      "execution_count": 17,
      "outputs": [
        {
          "output_type": "execute_result",
          "data": {
            "text/plain": [
              "((1070, 60, 5), (1070,))"
            ]
          },
          "metadata": {},
          "execution_count": 17
        }
      ]
    },
    {
      "cell_type": "code",
      "source": [
        "y_pred = regressor.predict(X_test)"
      ],
      "metadata": {
        "colab": {
          "base_uri": "https://localhost:8080/"
        },
        "id": "Hh66cGiYHnWQ",
        "outputId": "01a411fa-d2ed-4922-cef7-85a1641c2ca5"
      },
      "execution_count": 18,
      "outputs": [
        {
          "output_type": "stream",
          "name": "stdout",
          "text": [
            "34/34 [==============================] - 2s 53ms/step\n"
          ]
        }
      ]
    },
    {
      "cell_type": "code",
      "source": [
        "y_test"
      ],
      "metadata": {
        "colab": {
          "base_uri": "https://localhost:8080/"
        },
        "id": "hvT3Nw6MLI-6",
        "outputId": "e68b6c11-41f5-4d54-a89b-024b61fdf60b"
      },
      "execution_count": 19,
      "outputs": [
        {
          "output_type": "execute_result",
          "data": {
            "text/plain": [
              "array([0.25521275, 0.26260051, 0.31577975, ..., 0.46740444, 0.50618628,\n",
              "       0.54663175])"
            ]
          },
          "metadata": {},
          "execution_count": 19
        }
      ]
    },
    {
      "cell_type": "code",
      "source": [
        "print(scaler.scale_)"
      ],
      "metadata": {
        "colab": {
          "base_uri": "https://localhost:8080/"
        },
        "id": "IkV0noLKHsW4",
        "outputId": "e8b1af36-2160-4344-a450-30645d8a4cc1"
      },
      "execution_count": 20,
      "outputs": [
        {
          "output_type": "stream",
          "name": "stdout",
          "text": [
            "[1.93171639e-05 1.90343577e-05 1.96916230e-05 1.93126460e-05\n",
            " 2.89321071e-12]\n"
          ]
        }
      ]
    },
    {
      "cell_type": "code",
      "source": [
        "scale = 1/1.93171639e-05\n",
        "scale"
      ],
      "metadata": {
        "colab": {
          "base_uri": "https://localhost:8080/"
        },
        "id": "WsgalvCgHwKa",
        "outputId": "202d10f2-75a5-414c-8713-4ec8de25e312"
      },
      "execution_count": 21,
      "outputs": [
        {
          "output_type": "execute_result",
          "data": {
            "text/plain": [
              "51767.43362414604"
            ]
          },
          "metadata": {},
          "execution_count": 21
        }
      ]
    },
    {
      "cell_type": "code",
      "source": [
        "y_pred = y_pred*scale\n",
        "y_test = y_test*scale"
      ],
      "metadata": {
        "id": "Q0FPrJWBHz9i"
      },
      "execution_count": 22,
      "outputs": []
    },
    {
      "cell_type": "code",
      "source": [
        "y_test"
      ],
      "metadata": {
        "colab": {
          "base_uri": "https://localhost:8080/"
        },
        "id": "zwJIbquYLehS",
        "outputId": "b8b9e4e1-dca6-4d68-cb49-5a1e25157279"
      },
      "execution_count": 23,
      "outputs": [
        {
          "output_type": "execute_result",
          "data": {
            "text/plain": [
              "array([13211.70899269, 13594.15430492, 16347.10743152, ...,\n",
              "       24196.32813909, 26203.96485926, 28297.72267348])"
            ]
          },
          "metadata": {},
          "execution_count": 23
        }
      ]
    },
    {
      "cell_type": "code",
      "source": [
        "data_test['Date'] = pd.to_datetime(data_test['Date'])\n",
        "latest_year_data = data_test[data_test['Date'].dt.year == data_test['Date'].dt.year.max()]\n",
        "\n",
        "plt.figure(figsize=(14, 5))\n",
        "plt.plot(latest_year_data['Date'], y_test[-len(latest_year_data):], color='red', label='Real Google Stock Price')\n",
        "plt.plot(latest_year_data['Date'], y_pred[-len(latest_year_data):], color='blue', label='Predicted Google Stock Price')\n",
        "plt.title('Google Stock Price Prediction for the Latest Year')\n",
        "plt.xlabel('Date')\n",
        "plt.ylabel('Google Stock Price')\n",
        "plt.legend()\n",
        "plt.xticks(rotation=45)\n",
        "plt.tight_layout()\n",
        "plt.show()\n"
      ],
      "metadata": {
        "colab": {
          "base_uri": "https://localhost:8080/",
          "height": 455
        },
        "id": "knASqZEXH3DH",
        "outputId": "0b56f42a-4454-4486-a265-05455248b06a"
      },
      "execution_count": 24,
      "outputs": [
        {
          "output_type": "display_data",
          "data": {
            "text/plain": [
              "<Figure size 1400x500 with 1 Axes>"
            ],
            "image/png": "[encoded data removed]"
          },
          "metadata": {}
        }
      ]
    },
    {
      "cell_type": "code",
      "source": [
        "\n",
        "last_30_days = df[-30:][columns_to_scale].values\n",
        "\n",
        "scaled_last_30_days = scaler.transform(last_30_days)\n",
        "\n",
        "X_test_next_month = []\n",
        "\n",
        "X_test_next_month.append(scaled_last_30_days)\n",
        "\n",
        "\n",
        "X_test_next_month = np.array(X_test_next_month)\n",
        "\n",
        "predicted_next_month = regressor.predict(X_test_next_month)\n",
        "scale_factors = scaler.scale_\n",
        "\n",
        "predicted_next_month_original_scale = predicted_next_month * scale_factors[:len(columns_to_scale)]\n",
        "\n",
        "\n",
        "last_date = pd.to_datetime(df.index[-1])\n",
        "next_month_dates = pd.date_range(start=last_date + pd.Timedelta(days=1), periods=30)\n",
        "\n",
        "print(predicted_next_month_original_scale)\n",
        "print(next_month_dates)\n"
      ],
      "metadata": {
        "colab": {
          "base_uri": "https://localhost:8080/"
        },
        "id": "o83feEAdH9fI",
        "outputId": "75732c44-3019-47b6-e9a1-6074f8df3fd8"
      },
      "execution_count": 39,
      "outputs": [
        {
          "output_type": "stream",
          "name": "stderr",
          "text": [
            "/usr/local/lib/python3.10/dist-packages/sklearn/base.py:439: UserWarning: X does not have valid feature names, but MinMaxScaler was fitted with feature names\n",
            "  warnings.warn(\n"
          ]
        },
        {
          "output_type": "stream",
          "name": "stdout",
          "text": [
            "1/1 [==============================] - 0s 197ms/step\n",
            "[[-5.10753481e-07 -5.03275972e-07 -5.20654329e-07 -5.10634024e-07\n",
            "  -7.64976394e-14]]\n",
            "DatetimeIndex(['1970-01-02 00:00:00.000001129',\n",
            "               '1970-01-03 00:00:00.000001129',\n",
            "               '1970-01-04 00:00:00.000001129',\n",
            "               '1970-01-05 00:00:00.000001129',\n",
            "               '1970-01-06 00:00:00.000001129',\n",
            "               '1970-01-07 00:00:00.000001129',\n",
            "               '1970-01-08 00:00:00.000001129',\n",
            "               '1970-01-09 00:00:00.000001129',\n",
            "               '1970-01-10 00:00:00.000001129',\n",
            "               '1970-01-11 00:00:00.000001129',\n",
            "               '1970-01-12 00:00:00.000001129',\n",
            "               '1970-01-13 00:00:00.000001129',\n",
            "               '1970-01-14 00:00:00.000001129',\n",
            "               '1970-01-15 00:00:00.000001129',\n",
            "               '1970-01-16 00:00:00.000001129',\n",
            "               '1970-01-17 00:00:00.000001129',\n",
            "               '1970-01-18 00:00:00.000001129',\n",
            "               '1970-01-19 00:00:00.000001129',\n",
            "               '1970-01-20 00:00:00.000001129',\n",
            "               '1970-01-21 00:00:00.000001129',\n",
            "               '1970-01-22 00:00:00.000001129',\n",
            "               '1970-01-23 00:00:00.000001129',\n",
            "               '1970-01-24 00:00:00.000001129',\n",
            "               '1970-01-25 00:00:00.000001129',\n",
            "               '1970-01-26 00:00:00.000001129',\n",
            "               '1970-01-27 00:00:00.000001129',\n",
            "               '1970-01-28 00:00:00.000001129',\n",
            "               '1970-01-29 00:00:00.000001129',\n",
            "               '1970-01-30 00:00:00.000001129',\n",
            "               '1970-01-31 00:00:00.000001129'],\n",
            "              dtype='datetime64[ns]', freq='D')\n"
          ]
        }
      ]
    },
    {
      "cell_type": "code",
      "source": [
        "predicted_reshaped = predicted_next_week_original_scale.reshape(-1)\n",
        "plt.figure(figsize=(12, 6))\n",
        "plt.plot(next_week_dates, predicted_reshaped, color='blue', label='Predicted Values (Next Week)')\n",
        "plt.title('Predicted Values for Next Week')\n",
        "plt.xlabel('Date')\n",
        "plt.legend()\n",
        "plt.show()\n"
      ],
      "metadata": {
        "id": "6KNU4VVid2r6",
        "outputId": "0491d235-955d-4768-f14f-c02fee0577d4",
        "colab": {
          "base_uri": "https://localhost:8080/",
          "height": 564
        }
      },
      "execution_count": 40,
      "outputs": [
        {
          "output_type": "display_data",
          "data": {
            "text/plain": [
              "<Figure size 1200x600 with 1 Axes>"
            ],
            "image/png": "[encoded data removed]"
          },
          "metadata": {}
        }
      ]
    },
    {
      "cell_type": "code",
      "source": [
        "predicted_next_week_original_scale.shape"
      ],
      "metadata": {
        "id": "HCsQKr6Wn7p7"
      },
      "execution_count": null,
      "outputs": []
    },
    {
      "cell_type": "code",
      "source": [
        "print(last_month_dates.shape)\n",
        "print(scaled_predicted_values_last_month.shape)"
      ],
      "metadata": {
        "id": "AdaF8_T0oIhj"
      },
      "execution_count": null,
      "outputs": []
    },
    {
      "cell_type": "code",
      "source": [],
      "metadata": {
        "id": "9PK8uzxF3jPU"
      },
      "execution_count": null,
      "outputs": []
    }
  ]
}